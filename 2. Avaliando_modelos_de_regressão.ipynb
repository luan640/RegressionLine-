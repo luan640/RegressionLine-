{
  "cells": [
    {
      "cell_type": "markdown",
      "metadata": {
        "id": "view-in-github",
        "colab_type": "text"
      },
      "source": [
        "<a href=\"https://colab.research.google.com/github/luan640/RegressionLine-/blob/main/Avaliando_modelos_de_regress%C3%A3o.ipynb\" target=\"_parent\"><img src=\"https://colab.research.google.com/assets/colab-badge.svg\" alt=\"Open In Colab\"/></a>"
      ]
    },
    {
      "cell_type": "markdown",
      "metadata": {
        "id": "4nai6WC9SYkY"
      },
      "source": [
        "# Aula Avaliando modelos de regressão"
      ]
    },
    {
      "cell_type": "code",
      "execution_count": 1,
      "metadata": {
        "id": "2xlfu_PhSYkb"
      },
      "outputs": [],
      "source": [
        "from sklearn import metrics\n",
        "import numpy as np"
      ]
    },
    {
      "cell_type": "markdown",
      "metadata": {
        "id": "T6pZrXSOSYkc"
      },
      "source": [
        "## Leitura dos dados"
      ]
    },
    {
      "cell_type": "code",
      "execution_count": 6,
      "metadata": {
        "id": "OE2ZcHLMSYkc"
      },
      "outputs": [],
      "source": [
        "y_test = np.array([1,2,3,4]) #valores reais\n",
        "ỹ = np.array([1,220,3,5]) #valores preditos"
      ]
    },
    {
      "cell_type": "markdown",
      "metadata": {
        "id": "Y1F7TUoSSYkd"
      },
      "source": [
        "### 1. MAE\n",
        "\n",
        "- Calcula o erro absoluto médio entre valores preditos e reais\n",
        "- Interpretação mais intuitiva\n",
        "- Não pune severamente os outliers do modelo\n",
        "- Medida não ideal para lidar com problemas delicados \n"
      ]
    },
    {
      "cell_type": "code",
      "execution_count": 4,
      "metadata": {
        "colab": {
          "base_uri": "https://localhost:8080/"
        },
        "id": "4mGNKexoSYke",
        "outputId": "0c19703c-f0b0-4172-912c-a3e0a632b7ab"
      },
      "outputs": [
        {
          "output_type": "stream",
          "name": "stdout",
          "text": [
            "MAE: 0.25\n"
          ]
        }
      ],
      "source": [
        "print('MAE:', metrics.mean_absolute_error(y_test, ỹ))"
      ]
    },
    {
      "cell_type": "markdown",
      "metadata": {
        "id": "ayOyMQx1SYkf"
      },
      "source": [
        "### 2. MSE\n",
        "- Calcula o erro das previsões ao quadrado\n",
        "- Valores muitos distantes do real, aumenta o valor da medida muito facilmente\n",
        "- Dificuldade para interpretação direta\n"
      ]
    },
    {
      "cell_type": "code",
      "execution_count": 7,
      "metadata": {
        "colab": {
          "base_uri": "https://localhost:8080/"
        },
        "id": "-N7aimgnSYkg",
        "outputId": "308692a1-3981-43d7-ae51-f8bcb6db51c4"
      },
      "outputs": [
        {
          "output_type": "stream",
          "name": "stdout",
          "text": [
            "MSE: 11881.25\n"
          ]
        }
      ],
      "source": [
        "print('MSE:', metrics.mean_squared_error(y_test, ỹ))"
      ]
    },
    {
      "cell_type": "markdown",
      "metadata": {
        "id": "WPpqojzySYkg"
      },
      "source": [
        "### 3. RMSE\n",
        "- Calcula a raiz do erro média quadrático:\n",
        "- Interpretabilidade melhorada em relação ao MSE \n",
        "- Penaliza predições muito distante do real"
      ]
    },
    {
      "cell_type": "code",
      "execution_count": 8,
      "metadata": {
        "colab": {
          "base_uri": "https://localhost:8080/"
        },
        "id": "CYMVsnFnSYkh",
        "outputId": "729c4fdb-e0c8-4acb-9d79-1f35c87f7e56"
      },
      "outputs": [
        {
          "output_type": "stream",
          "name": "stdout",
          "text": [
            "RMSE: 109.0011467829582\n"
          ]
        }
      ],
      "source": [
        "print('RMSE:', np.sqrt(metrics.mean_squared_error(y_test, ỹ)))"
      ]
    },
    {
      "cell_type": "markdown",
      "metadata": {
        "id": "DYs9HbdFSYki"
      },
      "source": [
        "### 4. MAPE\n",
        "- Calcula um erro absoluto em porcentagem\n",
        "- Intuitiva para a interpretação do programador \n",
        "- Pode ser ruim quando o problema possui um grande alcance de número onde a variável predita varia de 0 a 20000, por exemplo.\n"
      ]
    },
    {
      "cell_type": "code",
      "execution_count": 9,
      "metadata": {
        "id": "PKrswCnLSYki"
      },
      "outputs": [],
      "source": [
        "def mean_absolute_percentage_error(y_true, y_pred): \n",
        "    y_true, y_pred = np.array(y_true), np.array(y_pred)\n",
        "    return np.mean(np.abs((y_true - y_pred) / y_true)) * 100"
      ]
    },
    {
      "cell_type": "code",
      "execution_count": 10,
      "metadata": {
        "colab": {
          "base_uri": "https://localhost:8080/"
        },
        "id": "ktAEVfo4SYki",
        "outputId": "558695e9-88ef-4ac8-90e2-2ae2a2b7246c"
      },
      "outputs": [
        {
          "output_type": "execute_result",
          "data": {
            "text/plain": [
              "2731.25"
            ]
          },
          "metadata": {},
          "execution_count": 10
        }
      ],
      "source": [
        "mean_absolute_percentage_error(y_test, ỹ)"
      ]
    },
    {
      "cell_type": "markdown",
      "metadata": {
        "id": "ACFuyOTKSYkj"
      },
      "source": [
        "### 4. R Quadrado\n",
        "- Mede o quão próximo as medidas reais estão do nosso modelo\n",
        "- Se aplica apenas a modelo univariados (X == 1)\n",
        "- Pode ser enviado por que utilizamos a correlação dos dados\n",
        "- Muito utilizada na área de financias\n"
      ]
    },
    {
      "cell_type": "code",
      "execution_count": 11,
      "metadata": {
        "colab": {
          "base_uri": "https://localhost:8080/"
        },
        "id": "TFN5W2H8SYkj",
        "outputId": "6c3ea2d8-5914-4387-c92d-5b185e9ef208"
      },
      "outputs": [
        {
          "output_type": "stream",
          "name": "stdout",
          "text": [
            "R: -9504.0\n"
          ]
        }
      ],
      "source": [
        "print('R:', metrics.r2_score(y_test,ỹ))"
      ]
    },
    {
      "cell_type": "markdown",
      "metadata": {
        "id": "QndnZU7DSYkk"
      },
      "source": [
        "### 5. R Quadrado ajustado\n",
        "- Representa a porcentagem da variância  sem viés devido ao acréscimo de novas features:\n",
        "- Avalia modelos com mais precisão e segurança\n",
        "- Pode ser utilizada em modelos com mais de uma feature (X > 1)\n",
        "- Usado para modelos mais simples que considera os valores encontrados pelo modelo a soma de um erro residual.\n"
      ]
    },
    {
      "cell_type": "code",
      "execution_count": 12,
      "metadata": {
        "colab": {
          "base_uri": "https://localhost:8080/"
        },
        "id": "tdF3IHQWSYkk",
        "outputId": "31a0a750-d07e-44dd-8c51-c1d15b8180ea"
      },
      "outputs": [
        {
          "output_type": "stream",
          "name": "stdout",
          "text": [
            "R-adjust: -14256.5\n"
          ]
        }
      ],
      "source": [
        "def adjusted_R(y, ỹ, N):\n",
        "    adj_r = (1 - ((1 - metrics.r2_score(y, ỹ)) * (len(y) - 1)) / (len(y) - N - 1))   \n",
        "    return adj_r\n",
        "print('R-adjust:', adjusted_R(y_test, ỹ, 1))"
      ]
    }
  ],
  "metadata": {
    "kernelspec": {
      "display_name": "Python 3",
      "language": "python",
      "name": "python3"
    },
    "language_info": {
      "codemirror_mode": {
        "name": "ipython",
        "version": 3
      },
      "file_extension": ".py",
      "mimetype": "text/x-python",
      "name": "python",
      "nbconvert_exporter": "python",
      "pygments_lexer": "ipython3",
      "version": "3.8.0"
    },
    "colab": {
      "provenance": [],
      "collapsed_sections": [],
      "include_colab_link": true
    }
  },
  "nbformat": 4,
  "nbformat_minor": 0
}
